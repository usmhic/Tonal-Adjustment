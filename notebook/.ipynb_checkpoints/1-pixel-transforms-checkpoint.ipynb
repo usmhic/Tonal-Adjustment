{
 "cells": [
  {
   "cell_type": "markdown",
   "id": "baa45e15",
   "metadata": {},
   "source": [
    "# Multiplication and Adition"
   ]
  },
  {
   "cell_type": "code",
   "execution_count": null,
   "id": "542be1f0",
   "metadata": {},
   "outputs": [],
   "source": [
    "import numpy as np\n",
    "import cv2\n",
    "import matplotlib.pyplot as plt\n",
    "\n",
    "def multiply_image(image, a):\n",
    "     return image * a\n",
    "\n",
    "def add_constant(image, a):\n",
    "    return image + a\n",
    "\n",
    "def add_muli(image, a, b):\n",
    "    return image * a + b\n",
    "\n",
    "# Read the image file\n",
    "image = cv2.imread(\"../assets/image-samples/img.jpg\")  \n",
    "multiplied_image = multiply_image(image, 2)\n",
    "added_image = add_constant(image, 50)\n",
    "op_image = add_muli(image, 2, 50)\n",
    "\n",
    "fig, ax = plt.subplots(2, 2, figsize=(10, 10))\n",
    "ax[0, 0].imshow(cv2.cvtColor(image, cv2.COLOR_BGR2RGB))\n",
    "ax[0, 0].set_title('Original image')\n",
    "ax[0, 1].imshow(cv2.cvtColor(multiplied_image, cv2.COLOR_BGR2RGB))\n",
    "ax[0, 1].set_title('Multiplied image')\n",
    "ax[1, 0].imshow(cv2.cvtColor(added_image, cv2.COLOR_BGR2RGB))\n",
    "ax[1, 0].set_title('Added image')\n",
    "ax[1, 1].imshow(cv2.cvtColor(op_image, cv2.COLOR_BGR2RGB))\n",
    "ax[1, 1].set_title('Op image')\n",
    "plt.show()"
   ]
  },
  {
   "cell_type": "markdown",
   "id": "ef3fefcb",
   "metadata": {},
   "source": [
    "## Linear Blend"
   ]
  },
  {
   "cell_type": "code",
   "execution_count": null,
   "id": "43213255",
   "metadata": {},
   "outputs": [],
   "source": [
    "import cv2\n",
    "import numpy as np\n",
    "import matplotlib.pyplot as plt\n",
    "\n",
    "def linear_blend(img1, img2, alpha):\n",
    "    if img1.shape != img2.shape:\n",
    "        raise ValueError(\"Images must have the same shape\")\n",
    "    if alpha < 0 or alpha > 1:\n",
    "        raise ValueError(\"Alpha must be between 0 and 1\")\n",
    "    \n",
    "    blended_img = np.uint8(alpha * img1 + (1 - alpha) * img2)\n",
    "    return blended_img\n",
    "\n",
    "img1 = cv2.imread(\"../assets/image-samples/img.jpg\")\n",
    "img2 = cv2.imread(\"../assets/image-samples/img.jpg\")\n",
    "blended_img = linear_blend(img1, img2, 0.5)\n",
    "\n",
    "fig, ax = plt.subplots(1, 3, figsize=(15, 15))\n",
    "ax[0].imshow(cv2.cvtColor(img1, cv2.COLOR_BGR2RGB))\n",
    "ax[0].set_title('Image 1')\n",
    "ax[1].imshow(cv2.cvtColor(img2, cv2.COLOR_BGR2RGB))\n",
    "ax[1].set_title('Image 2')\n",
    "ax[2].imshow(cv2.cvtColor(blended_img, cv2.COLOR_BGR2RGB))\n",
    "ax[2].set_title('Blended image')\n",
    "plt.show()"
   ]
  },
  {
   "cell_type": "markdown",
   "id": "e84443bb",
   "metadata": {},
   "source": [
    "## Multiplicative Gain"
   ]
  },
  {
   "cell_type": "code",
   "execution_count": null,
   "id": "f98b00ae",
   "metadata": {},
   "outputs": [],
   "source": [
    "import cv2\n",
    "import numpy as np\n",
    "import matplotlib.pyplot as plt\n",
    "\n",
    "def multiplicative_gain(img, gain):\n",
    "     return np.uint8(np.clip(gain * img, 0, 255))\n",
    "    \n",
    "img = cv2.imread(\"../assets/image-samples/img.jpg\")\n",
    "gain = 1.5\n",
    "img_with_gain = multiplicative_gain(img, gain)\n",
    "\n",
    "fig, ax = plt.subplots(1, 2, figsize=(10, 5))\n",
    "ax[0].imshow(cv2.cvtColor(img, cv2.COLOR_BGR2RGB))\n",
    "ax[0].set_title('Original image')\n",
    "ax[1].imshow(cv2.cvtColor(img_with_gain, cv2.COLOR_BGR2RGB))\n",
    "ax[1].set_title('Image with gain')\n",
    "plt.show()"
   ]
  },
  {
   "cell_type": "code",
   "execution_count": null,
   "id": "d46cc297",
   "metadata": {},
   "outputs": [],
   "source": []
  }
 ],
 "metadata": {
  "kernelspec": {
   "display_name": "Python 3 (ipykernel)",
   "language": "python",
   "name": "python3"
  },
  "language_info": {
   "codemirror_mode": {
    "name": "ipython",
    "version": 3
   },
   "file_extension": ".py",
   "mimetype": "text/x-python",
   "name": "python",
   "nbconvert_exporter": "python",
   "pygments_lexer": "ipython3",
   "version": "3.9.13"
  }
 },
 "nbformat": 4,
 "nbformat_minor": 5
}
